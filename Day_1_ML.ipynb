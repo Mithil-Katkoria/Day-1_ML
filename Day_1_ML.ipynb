{
  "nbformat": 4,
  "nbformat_minor": 0,
  "metadata": {
    "colab": {
      "name": "Day 1_ML.ipynb",
      "provenance": [],
      "collapsed_sections": [],
      "authorship_tag": "ABX9TyNRLwlycwpT3ChEgPTg0Wna",
      "include_colab_link": true
    },
    "kernelspec": {
      "name": "python3",
      "display_name": "Python 3"
    },
    "language_info": {
      "name": "python"
    }
  },
  "cells": [
    {
      "cell_type": "markdown",
      "metadata": {
        "id": "view-in-github",
        "colab_type": "text"
      },
      "source": [
        "<a href=\"https://colab.research.google.com/github/Mithil-Katkoria/Day-1_ML/blob/main/Day_1_ML.ipynb\" target=\"_parent\"><img src=\"https://colab.research.google.com/assets/colab-badge.svg\" alt=\"Open In Colab\"/></a>"
      ]
    },
    {
      "cell_type": "markdown",
      "metadata": {
        "id": "9y3TYPddz1hJ"
      },
      "source": [
        "# **Numpy**\n",
        "\n"
      ]
    },
    {
      "cell_type": "code",
      "metadata": {
        "id": "nPXwO9X1yrZk"
      },
      "source": [
        "import numpy as np\n",
        "import os\n",
        "import sys\n",
        "import time"
      ],
      "execution_count": 11,
      "outputs": []
    },
    {
      "cell_type": "code",
      "metadata": {
        "colab": {
          "base_uri": "https://localhost:8080/"
        },
        "id": "Oju3eRvwg2BF",
        "outputId": "97b084f0-fa79-4398-c65b-a820b9633bc4"
      },
      "source": [
        "a = [1,2,3,4,5]\n",
        "arr1 = np.array(a)\n",
        "\n",
        "b = [[1,2,3,4], [5,6,7,8]]\n",
        "arr2 = np.array(b)\n",
        "\n",
        "print(arr1)\n",
        "print(arr2)"
      ],
      "execution_count": 2,
      "outputs": [
        {
          "output_type": "stream",
          "text": [
            "[1 2 3 4 5]\n",
            "[[1 2 3 4]\n",
            " [5 6 7 8]]\n"
          ],
          "name": "stdout"
        }
      ]
    },
    {
      "cell_type": "code",
      "metadata": {
        "colab": {
          "base_uri": "https://localhost:8080/"
        },
        "id": "_o6ZxtbGhPBu",
        "outputId": "bdfd6b87-a786-46b4-bac1-46591a03c4e7"
      },
      "source": [
        "print(type(a))\n",
        "print(type(b))\n",
        "\n",
        "print(type(arr1))\n",
        "print(type(arr2))"
      ],
      "execution_count": 6,
      "outputs": [
        {
          "output_type": "stream",
          "text": [
            "<class 'list'>\n",
            "<class 'list'>\n",
            "<class 'numpy.ndarray'>\n",
            "<class 'numpy.ndarray'>\n"
          ],
          "name": "stdout"
        }
      ]
    },
    {
      "cell_type": "code",
      "metadata": {
        "colab": {
          "base_uri": "https://localhost:8080/"
        },
        "id": "qAQlTh2Xh0H6",
        "outputId": "18d7243d-9680-41a8-b1a9-2ed305c8b343"
      },
      "source": [
        "s = range(1000)\n",
        "print(\"Size of each elements in the list in bytes\",sys.getsizeof(s))\n",
        "print(\"Complete list size in bytes\",sys.getsizeof(s) * len(s))"
      ],
      "execution_count": 9,
      "outputs": [
        {
          "output_type": "stream",
          "text": [
            "Size of each elements in the list in bytes 48\n",
            "Complete list size in bytes 48000\n"
          ],
          "name": "stdout"
        }
      ]
    },
    {
      "cell_type": "code",
      "metadata": {
        "colab": {
          "base_uri": "https://localhost:8080/"
        },
        "id": "8duHvPsxiVDw",
        "outputId": "f081fdab-707e-4cbc-dec9-17341b01d24d"
      },
      "source": [
        "s = np.arange(1000)\n",
        "print(\"Size of each elements in the list by bytes\",s.itemsize)\n",
        "print(\"Complete list size in bytes\",s.size * s.itemsize)"
      ],
      "execution_count": 10,
      "outputs": [
        {
          "output_type": "stream",
          "text": [
            "Size of each elements in the list by bytes 8\n",
            "Complete list size in bytes 8000\n"
          ],
          "name": "stdout"
        }
      ]
    },
    {
      "cell_type": "code",
      "metadata": {
        "colab": {
          "base_uri": "https://localhost:8080/"
        },
        "id": "HSw9TVb9ju1Q",
        "outputId": "940b0487-6c84-4d48-81cb-99d1fece4b19"
      },
      "source": [
        "a = range(1000)\n",
        "b = range(1000)\n",
        "\n",
        "start = time.time()\n",
        "end = time.time()\n",
        "\n",
        "ab = [(a * b) for a,b in zip(a,b)]\n",
        "\n",
        "print(\"Total time taken:\",end - start)"
      ],
      "execution_count": 14,
      "outputs": [
        {
          "output_type": "stream",
          "text": [
            "Total time taken: 1.3828277587890625e-05\n"
          ],
          "name": "stdout"
        }
      ]
    },
    {
      "cell_type": "code",
      "metadata": {
        "colab": {
          "base_uri": "https://localhost:8080/"
        },
        "id": "bkCgK1PrkPYc",
        "outputId": "944d1343-193d-4be7-c786-927ef001e2d3"
      },
      "source": [
        "arr1 = np.arange(1000)\n",
        "arr2 = np.arange(1000)\n",
        "\n",
        "start = time.time()\n",
        "end = time.time()\n",
        "\n",
        "arr_mul = arr1 * arr2\n",
        "\n",
        "print(\"Total time taken:\",end - start)"
      ],
      "execution_count": 17,
      "outputs": [
        {
          "output_type": "stream",
          "text": [
            "Total time taken: 2.0265579223632812e-05\n"
          ],
          "name": "stdout"
        }
      ]
    },
    {
      "cell_type": "code",
      "metadata": {
        "colab": {
          "base_uri": "https://localhost:8080/"
        },
        "id": "JSiGgl4ylLj4",
        "outputId": "462abd58-4538-4676-ee89-6721c79f3aa6"
      },
      "source": [
        "lst1 = [1,2,3,4]\n",
        "arr = np.array(lst1)\n",
        "\n",
        "print(arr)"
      ],
      "execution_count": 18,
      "outputs": [
        {
          "output_type": "stream",
          "text": [
            "[1 2 3 4]\n"
          ],
          "name": "stdout"
        }
      ]
    },
    {
      "cell_type": "code",
      "metadata": {
        "colab": {
          "base_uri": "https://localhost:8080/"
        },
        "id": "5crXQdi1laoK",
        "outputId": "fbef388e-faff-4f32-b7f6-6210f7df4d32"
      },
      "source": [
        "print(arr + 1)"
      ],
      "execution_count": 19,
      "outputs": [
        {
          "output_type": "stream",
          "text": [
            "[2 3 4 5]\n"
          ],
          "name": "stdout"
        }
      ]
    },
    {
      "cell_type": "code",
      "metadata": {
        "colab": {
          "base_uri": "https://localhost:8080/"
        },
        "id": "hBBYR0GnlkEP",
        "outputId": "0d967626-1d91-461e-ac2b-ec37c47caa7c"
      },
      "source": [
        "arr1 = np.array([[1,2,3,4], [5,6,7,8]],ndmin = 2)\n",
        "print(arr1)"
      ],
      "execution_count": 21,
      "outputs": [
        {
          "output_type": "stream",
          "text": [
            "[[1 2 3 4]\n",
            " [5 6 7 8]]\n"
          ],
          "name": "stdout"
        }
      ]
    },
    {
      "cell_type": "code",
      "metadata": {
        "id": "EKi6CN6hnqJe"
      },
      "source": [
        "arr2 = list(arr1)\n",
        "print(arr2)"
      ],
      "execution_count": null,
      "outputs": []
    },
    {
      "cell_type": "code",
      "metadata": {
        "colab": {
          "base_uri": "https://localhost:8080/"
        },
        "id": "fgPZgHMkn7DB",
        "outputId": "99e476f2-0019-4765-db12-607fae087ede"
      },
      "source": [
        "print(type(arr1),\n",
        "      type(arr2))"
      ],
      "execution_count": 22,
      "outputs": [
        {
          "output_type": "stream",
          "text": [
            "<class 'numpy.ndarray'> <class 'numpy.ndarray'>\n"
          ],
          "name": "stdout"
        }
      ]
    }
  ]
}